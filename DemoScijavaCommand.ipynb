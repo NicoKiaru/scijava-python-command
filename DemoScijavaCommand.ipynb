{
 "cells": [
  {
   "cell_type": "code",
   "execution_count": 1,
   "id": "a3adfbe2",
   "metadata": {},
   "outputs": [],
   "source": [
    "import imagej"
   ]
  },
  {
   "cell_type": "code",
   "execution_count": 2,
   "id": "c3b68a15",
   "metadata": {},
   "outputs": [],
   "source": [
    "#import logging\n",
    "#logging.basicConfig(level=logging.DEBUG)"
   ]
  },
  {
   "cell_type": "code",
   "execution_count": 3,
   "id": "c9bfbfc4",
   "metadata": {},
   "outputs": [],
   "source": [
    "ij = imagej.init(['net.imagej:imagej:2.9.0', 'ch.epfl.biop:pyimagej-scijava-command:0.1.5'], mode='interactive')\n",
    "ij.ui().showUI()"
   ]
  },
  {
   "cell_type": "code",
   "execution_count": 4,
   "id": "ba198ee0",
   "metadata": {},
   "outputs": [],
   "source": [
    "# Let's create a command from Python, because this is convenient for testing\n",
    "\n",
    "from scyjava import jimport\n",
    "from jpype import JImplements, JOverride\n",
    "from jpype.types import JString, JBoolean, JDouble, JInt, JFloat\n",
    "JFile = jimport('java.io.File')\n",
    "\n",
    "from scijava_python_command import ScijavaCommand, ScijavaInput, ScijavaOutput"
   ]
  },
  {
   "cell_type": "code",
   "execution_count": 7,
   "id": "48df1bc0",
   "metadata": {},
   "outputs": [
    {
     "name": "stdout",
     "output_type": "stream",
     "text": [
      "File to load = C:\\Users\\nicol\\Dropbox\\BIOP\\22-05-18 Report.txt\n",
      "File to save = C:\\Users\\nicol\\Dropbox\\BIOP\\scijava-python-command\\scijava_python_command\\test.xml\n",
      "Directory = C:\\Users\\nicol\\Dropbox\\BIOP\\scijava-python-command\\scijava_python_command\n"
     ]
    }
   ],
   "source": [
    "# Example of Scijava Command registration via Scijava decorators\n",
    "\n",
    "# --------------------------------------------------------------------\n",
    "@ScijavaCommand(context = ij.context(), # ij context needed\n",
    "                name = 'pyCommand.HelloCommand')\n",
    "@ScijavaInput('name', JString, \n",
    "              label = 'Name :', description = 'Please enter your name')\n",
    "@ScijavaInput('familiar', JBoolean, \n",
    "              label = 'Familiar', description = 'Hi or Hello ?')\n",
    "@ScijavaOutput('greetings', JString)\n",
    "class HelloCommand: \n",
    "    def run(self):\n",
    "        if (self.familiar):\n",
    "            self.greetings = 'Hi ' + str(self.name) + '!'\n",
    "        else:\n",
    "            self.greetings = 'Hello my dear ' + str(self.name) + '.'\n",
    "        print(self.greetings)\n",
    "\n",
    "# --------------------------------------------------------------------\n",
    "@ScijavaCommand(context = ij.context(), # ij context needed\n",
    "                name = 'pyCommand.IntNumberCommand')\n",
    "@ScijavaInput('min_val', JInt, \n",
    "              label = 'Minimum :', min = '0', max = '40')\n",
    "@ScijavaInput('max_val', JInt, \n",
    "              label = 'Maximum :')\n",
    "class IntNumberCommand:        \n",
    "    def run(self):\n",
    "        for i in range(self.min_val, self.max_val):\n",
    "            print(i)\n",
    "\n",
    "# --------------------------------------------------------------------\n",
    "@ScijavaCommand(context = ij.context(), # ij context needed\n",
    "                name = 'pyCommand.FloatNumberCommand')\n",
    "@ScijavaInput('min_val', JFloat, \n",
    "              label = 'Minimum :', min = '0', max = '40')\n",
    "@ScijavaInput('max_val', JFloat, \n",
    "              label = 'Maximum :')\n",
    "@ScijavaInput('step', JFloat, \n",
    "              label = 'Step :')\n",
    "class FloatNumberCommand:        \n",
    "    def run(self):\n",
    "        if self.step<=0:\n",
    "            print('Please enter a positive step size')\n",
    "        if self.min_val>self.max_val:\n",
    "            print('Please enter a max value above the min value')\n",
    "        val = self.min_val\n",
    "        while val<self.max_val:\n",
    "                val = val + self.step\n",
    "                print(val)\n",
    "                \n",
    "# --------------------------------------------------------------------\n",
    "@ScijavaCommand(context = ij.context(), # ij context needed\n",
    "                name = 'pyCommand.PickFiles')\n",
    "@ScijavaInput('a_file_to_load', JFile, \n",
    "              label = 'Select a file', style = 'extensions:md/py')\n",
    "@ScijavaInput('a_file_to_save', JFile, \n",
    "              label = 'New file path', style = 'save')\n",
    "@ScijavaInput('a_directory', JFile, \n",
    "              label = 'Select a directory', style = 'directory')\n",
    "@ScijavaOutput('a_string_out', JString)\n",
    "class File:        \n",
    "    def run(self):\n",
    "        print('File to load = '+str(self.a_file_to_load))\n",
    "        print('File to save = '+str(self.a_file_to_save))\n",
    "        print('Directory = '+str(self.a_directory))\n",
    "        self.a_string_out = JString('This is an output')\n",
    "        \n",
    "# After execution of this cell, the commands are not appearing in the menu, but they appear in ImageJ's search bar, and they can be executed in Groovy\n",
    "# but unfortunately not with the macro language, even though they are recorded"
   ]
  },
  {
   "cell_type": "code",
   "execution_count": 6,
   "id": "9679b056",
   "metadata": {},
   "outputs": [
    {
     "name": "stdout",
     "output_type": "stream",
     "text": [
      "Hi Bob!\n",
      "File to load = C:\\Users\\nicol\\Dropbox\\BIOP\\22-05-18 Report.txt\n",
      "File to save = C:\\Users\\nicol\\Dropbox\\BIOP\\scijava-python-command\\scijava_python_command\\test.xml\n",
      "Directory = C:\\Users\\nicol\\Dropbox\\BIOP\\scijava-python-command\\scijava_python_command\n"
     ]
    }
   ],
   "source": [
    "# Programmatic execution, look at ImageJ UI to go through\n",
    "\n",
    "ij.command().run('pyCommand.HelloCommand',True)"
   ]
  },
  {
   "cell_type": "code",
   "execution_count": null,
   "id": "e3c6a551",
   "metadata": {},
   "outputs": [],
   "source": []
  }
 ],
 "metadata": {
  "kernelspec": {
   "display_name": "Python 3 (ipykernel)",
   "language": "python",
   "name": "python3"
  },
  "language_info": {
   "codemirror_mode": {
    "name": "ipython",
    "version": 3
   },
   "file_extension": ".py",
   "mimetype": "text/x-python",
   "name": "python",
   "nbconvert_exporter": "python",
   "pygments_lexer": "ipython3",
   "version": "3.7.12"
  }
 },
 "nbformat": 4,
 "nbformat_minor": 5
}
