{
 "cells": [
  {
   "cell_type": "code",
   "execution_count": 1,
   "id": "c3905e6f",
   "metadata": {},
   "outputs": [],
   "source": [
    "import imagej"
   ]
  },
  {
   "cell_type": "code",
   "execution_count": 2,
   "id": "c44ded70",
   "metadata": {},
   "outputs": [],
   "source": [
    "#import logging\n",
    "#logging.basicConfig(level=logging.DEBUG)"
   ]
  },
  {
   "cell_type": "code",
   "execution_count": 3,
   "id": "7fd5079d",
   "metadata": {},
   "outputs": [],
   "source": [
    "ij = imagej.init(['net.imagej:imagej:2.9.0', 'ch.epfl.biop:pyimagej-scijava-command:0.1.5'])#, mode='interactive')\n",
    "ij.ui().showUI()"
   ]
  },
  {
   "cell_type": "code",
   "execution_count": 4,
   "id": "a064a9e8",
   "metadata": {},
   "outputs": [],
   "source": [
    "# Let's create a command from Python, because this is convenient for testing\n",
    "\n",
    "from scyjava import jimport\n",
    "from jpype import JImplements, JOverride\n",
    "from jpype.types import JString, JBoolean, JDouble, JInt, JFloat\n",
    "\n",
    "from scijava_python_command import ScijavaCommand, ScijavaInput, ScijavaOutput"
   ]
  },
  {
   "cell_type": "code",
   "execution_count": 5,
   "id": "657edfb5",
   "metadata": {},
   "outputs": [],
   "source": [
    "# Example of Scijava Command registration via the @ScijavaCommand decorator\n",
    "\n",
    "@ScijavaCommand(context = ij.context(), # ij context needed\n",
    "                name = 'pyCommand.HelloCommand')\n",
    "@ScijavaInput('name', JString, \n",
    "              label = 'Name :', description = 'Please enter your name')\n",
    "@ScijavaInput('familiar', JBoolean, \n",
    "              label = 'Familiar', description = 'Hi or Hello ?')\n",
    "@ScijavaOutput('greetings', JString)\n",
    "class HelloCommand: \n",
    "    \n",
    "    def run(self):\n",
    "        if (self.familiar):\n",
    "            self.greetings = 'Hi ' + str(self.name) + '!'\n",
    "        else:\n",
    "            self.greetings = 'Hello my dear ' + str(self.name) + '.'\n",
    "        print(self.greetings)\n",
    "        "
   ]
  },
  {
   "cell_type": "code",
   "execution_count": 6,
   "id": "9ac4c3c0",
   "metadata": {},
   "outputs": [],
   "source": [
    "ij.command().run('pyCommand.HelloCommand',True)"
   ]
  },
  {
   "cell_type": "code",
   "execution_count": 7,
   "id": "4c0f5aee",
   "metadata": {},
   "outputs": [
    {
     "name": "stdout",
     "output_type": "stream",
     "text": [
      "Scijava jupyter ui enabled\n"
     ]
    }
   ],
   "source": [
    "from scijava_python_command import enable_jupyter_ui\n",
    "\n",
    "enable_jupyter_ui()\n"
   ]
  },
  {
   "cell_type": "code",
   "execution_count": 8,
   "id": "719b743d",
   "metadata": {},
   "outputs": [],
   "source": [
    "ij.command().run('pyCommand.HelloCommand',True)"
   ]
  },
  {
   "cell_type": "code",
   "execution_count": 9,
   "id": "2b71b38d",
   "metadata": {},
   "outputs": [
    {
     "data": {
      "application/vnd.jupyter.widget-view+json": {
       "model_id": "4af42074d62a478bb31517aae1d4a421",
       "version_major": 2,
       "version_minor": 0
      },
      "text/plain": [
       "VBox(children=(Text(value='Bob', description='Name :', placeholder='Please enter your name'), Checkbox(value=T…"
      ]
     },
     "metadata": {},
     "output_type": "display_data"
    },
    {
     "data": {
      "application/vnd.jupyter.widget-view+json": {
       "model_id": "b103151dbb294a07bb803642fde0a7f6",
       "version_major": 2,
       "version_minor": 0
      },
      "text/plain": [
       "VBox(children=(Text(value='Bob', description='Name :', placeholder='Please enter your name'), Checkbox(value=T…"
      ]
     },
     "metadata": {},
     "output_type": "display_data"
    }
   ],
   "source": [
    "ij.command().run('pyCommand.HelloCommand', True, 'name', 'Bob')"
   ]
  },
  {
   "cell_type": "code",
   "execution_count": 10,
   "id": "fa483271",
   "metadata": {},
   "outputs": [
    {
     "data": {
      "application/vnd.jupyter.widget-view+json": {
       "model_id": "3387bd0d03c849d2b28abc9170e24165",
       "version_major": 2,
       "version_minor": 0
      },
      "text/plain": [
       "VBox(children=(Checkbox(value=True, description='Familiar'), Button(description='OK', style=ButtonStyle())))"
      ]
     },
     "metadata": {},
     "output_type": "display_data"
    },
    {
     "name": "stdout",
     "output_type": "stream",
     "text": [
      "Hello my dear Charles.\n"
     ]
    },
    {
     "name": "stderr",
     "output_type": "stream",
     "text": [
      "[java.lang.Enum.toString] [INFO] greetings = Hello my dear Charles.\r\n"
     ]
    }
   ],
   "source": [
    "ij.command().run('pyCommand.HelloCommand', True, 'name', 'Charles', 'familiar', False)"
   ]
  },
  {
   "cell_type": "code",
   "execution_count": 11,
   "id": "a115eea0",
   "metadata": {},
   "outputs": [],
   "source": [
    "@ScijavaCommand(context = ij.context(), # ij context needed\n",
    "                name = 'pyCommand.IntNumberCommand')\n",
    "@ScijavaInput('min_val', JInt, \n",
    "              label = 'Minimum :', min = '0', max = '40')\n",
    "@ScijavaInput('max_val', JInt, \n",
    "              label = 'Maximum :')\n",
    "class IntNumberCommand:        \n",
    "    def run(self):\n",
    "        for i in range(self.min_val, self.max_val):\n",
    "            print(i)\n",
    "            \n",
    "@ScijavaCommand(context = ij.context(), # ij context needed\n",
    "                name = 'pyCommand.FloatNumberCommand')\n",
    "@ScijavaInput('min_val', JFloat, \n",
    "              label = 'Minimum :', min = '0', max = '40')\n",
    "@ScijavaInput('max_val', JFloat, \n",
    "              label = 'Maximum :')\n",
    "@ScijavaInput('step', JFloat, \n",
    "              label = 'Step :')\n",
    "class FloatNumberCommand:        \n",
    "    def run(self):\n",
    "        if self.step<=0:\n",
    "            print('Please enter a positive step size')\n",
    "        if self.min_val>self.max_val:\n",
    "            print('Please enter a max value above the min value')\n",
    "        val = self.min_val\n",
    "        while val<self.max_val:\n",
    "                val = val + self.step\n",
    "                print(val)\n",
    "            "
   ]
  },
  {
   "cell_type": "code",
   "execution_count": 12,
   "id": "d12d7c6b",
   "metadata": {},
   "outputs": [],
   "source": [
    "ij.command().run('pyCommand.IntNumberCommand', True)\n",
    "ij.command().run('pyCommand.FloatNumberCommand', True)"
   ]
  },
  {
   "cell_type": "code",
   "execution_count": 13,
   "id": "9f05ed7c",
   "metadata": {},
   "outputs": [
    {
     "data": {
      "application/vnd.jupyter.widget-view+json": {
       "model_id": "25bac89f96524aa2a210032d5fbc63f6",
       "version_major": 2,
       "version_minor": 0
      },
      "text/plain": [
       "VBox(children=(IntText(value=0, description='Maximum :'), BoundedIntText(value=0, description='Minimum :', max…"
      ]
     },
     "metadata": {},
     "output_type": "display_data"
    },
    {
     "data": {
      "application/vnd.jupyter.widget-view+json": {
       "model_id": "6f8936ebf01a449d85a04d2d57968521",
       "version_major": 2,
       "version_minor": 0
      },
      "text/plain": [
       "VBox(children=(BoundedFloatText(value=30.0, description='Maximum :'), BoundedFloatText(value=0.5, description=…"
      ]
     },
     "metadata": {},
     "output_type": "display_data"
    }
   ],
   "source": [
    "JFile = jimport('java.io.File')\n",
    "\n",
    "@ScijavaCommand(context = ij.context(), # ij context needed\n",
    "                name = 'pyCommand.PickFile')\n",
    "@ScijavaInput('a_file_to_load', JFile, \n",
    "              label = 'Select a file', style = 'extensions:md/py')\n",
    "@ScijavaInput('a_file_to_save', JFile, \n",
    "              label = 'New file path', style = 'save')\n",
    "@ScijavaInput('a_directory', JFile, \n",
    "              label = 'Select a directory', style = 'directory')\n",
    "class File:        \n",
    "    def run(self):\n",
    "        print('File to load = '+str(self.a_file_to_load))\n",
    "        print('File to save = '+str(self.a_file_to_save))\n",
    "        print('Directory = '+str(self.a_directory))"
   ]
  },
  {
   "cell_type": "code",
   "execution_count": 14,
   "id": "3ba51bb5",
   "metadata": {},
   "outputs": [
    {
     "data": {
      "application/vnd.jupyter.widget-view+json": {
       "model_id": "c7fcc7ec7f584c79bdefdedfc3c03923",
       "version_major": 2,
       "version_minor": 0
      },
      "text/plain": [
       "VBox(children=(FileChooser(path='C:\\Users\\nicol\\Dropbox\\BIOP\\scijava-python-command', filename='', title='Sele…"
      ]
     },
     "metadata": {},
     "output_type": "display_data"
    }
   ],
   "source": [
    "ij.command().run('pyCommand.PickFile', True)"
   ]
  },
  {
   "cell_type": "code",
   "execution_count": null,
   "id": "a04179cb",
   "metadata": {},
   "outputs": [],
   "source": []
  }
 ],
 "metadata": {
  "kernelspec": {
   "display_name": "Python 3 (ipykernel)",
   "language": "python",
   "name": "python3"
  },
  "language_info": {
   "codemirror_mode": {
    "name": "ipython",
    "version": 3
   },
   "file_extension": ".py",
   "mimetype": "text/x-python",
   "name": "python",
   "nbconvert_exporter": "python",
   "pygments_lexer": "ipython3",
   "version": "3.7.12"
  }
 },
 "nbformat": 4,
 "nbformat_minor": 5
}
