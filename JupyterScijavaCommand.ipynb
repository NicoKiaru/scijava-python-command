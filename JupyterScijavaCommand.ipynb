{
 "cells": [
  {
   "cell_type": "code",
   "execution_count": 1,
   "id": "c3905e6f",
   "metadata": {},
   "outputs": [],
   "source": [
    "import imagej"
   ]
  },
  {
   "cell_type": "code",
   "execution_count": 2,
   "id": "14570560",
   "metadata": {},
   "outputs": [],
   "source": [
    "# import logging\n",
    "# logging.basicConfig(level=logging.DEBUG)"
   ]
  },
  {
   "cell_type": "code",
   "execution_count": 3,
   "id": "7fd5079d",
   "metadata": {},
   "outputs": [],
   "source": [
    "ij = imagej.init(['net.imagej:imagej:2.9.0', 'ch.epfl.biop:pyimagej-scijava-command:0.1.5'])#, mode='interactive')\n",
    "ij.ui().showUI()"
   ]
  },
  {
   "cell_type": "code",
   "execution_count": 4,
   "id": "a064a9e8",
   "metadata": {},
   "outputs": [],
   "source": [
    "# Let's create a command from Python, because this is convenient for testing\n",
    "\n",
    "from scyjava import jimport\n",
    "from jpype import JImplements, JOverride\n",
    "from jpype.types import JString, JBoolean, JDouble, JInt\n",
    "\n",
    "from scijava_python_command import ScijavaCommand, ScijavaInput, ScijavaOutput"
   ]
  },
  {
   "cell_type": "code",
   "execution_count": 5,
   "id": "657edfb5",
   "metadata": {},
   "outputs": [],
   "source": [
    "# Example of Scijava Command registration via the @ScijavaCommand decorator\n",
    "\n",
    "@ScijavaCommand(context = ij.context(), # ij context needed\n",
    "                name = 'pyCommand.HelloCommand')\n",
    "@ScijavaInput('name', JString, \n",
    "              label = 'Name :', description = 'Please enter your name')\n",
    "@ScijavaInput('familiar', JBoolean, \n",
    "              label = 'Familiar :', description = 'Hi or Hello ?')\n",
    "@ScijavaOutput('greetings', JString)\n",
    "class HelloCommand: \n",
    "    \n",
    "    def run(self):\n",
    "        if (self.familiar):\n",
    "            self.greetings = 'Hi ' + str(self.name) + '!'\n",
    "        else:\n",
    "            self.greetings = 'Hello my dear ' + str(self.name) + '.'\n",
    "        print(self.greetings)\n",
    "        "
   ]
  },
  {
   "cell_type": "code",
   "execution_count": 6,
   "id": "9ac4c3c0",
   "metadata": {},
   "outputs": [
    {
     "name": "stdout",
     "output_type": "stream",
     "text": [
      "Hi Bobby!\n"
     ]
    },
    {
     "name": "stderr",
     "output_type": "stream",
     "text": [
      "[java.lang.Enum.toString] [INFO] greetings = Hi Bobby!\r\n"
     ]
    }
   ],
   "source": [
    "ij.command().run('pyCommand.HelloCommand',True)"
   ]
  },
  {
   "cell_type": "code",
   "execution_count": 7,
   "id": "4c0f5aee",
   "metadata": {},
   "outputs": [
    {
     "name": "stdout",
     "output_type": "stream",
     "text": [
      "Scijava jupyter ui enabled\n"
     ]
    }
   ],
   "source": [
    "from scijava_python_command import enable_jupyter_ui\n",
    "\n",
    "enable_jupyter_ui()\n"
   ]
  },
  {
   "cell_type": "code",
   "execution_count": 8,
   "id": "719b743d",
   "metadata": {},
   "outputs": [
    {
     "data": {
      "application/vnd.jupyter.widget-view+json": {
       "model_id": "f64643662e2b47b894b485c9316d9d10",
       "version_major": 2,
       "version_minor": 0
      },
      "text/plain": [
       "VBox(children=(Text(value='Bobby', description='name', placeholder='Type something'), Checkbox(value=True, des…"
      ]
     },
     "metadata": {},
     "output_type": "display_data"
    },
    {
     "name": "stdout",
     "output_type": "stream",
     "text": [
      "Hi Charles!\n"
     ]
    },
    {
     "name": "stderr",
     "output_type": "stream",
     "text": [
      "[java.lang.Enum.toString] [INFO] greetings = Hi Charles!\r\n"
     ]
    }
   ],
   "source": [
    "ij.command().run('pyCommand.HelloCommand',True)"
   ]
  },
  {
   "cell_type": "code",
   "execution_count": 9,
   "id": "2b71b38d",
   "metadata": {},
   "outputs": [
    {
     "data": {
      "application/vnd.jupyter.widget-view+json": {
       "model_id": "2e531328d4c149c7bbff2399b69a099a",
       "version_major": 2,
       "version_minor": 0
      },
      "text/plain": [
       "VBox(children=(Checkbox(value=True, description='familiar', indent=False), Button(description='OK', style=Butt…"
      ]
     },
     "metadata": {},
     "output_type": "display_data"
    },
    {
     "name": "stdout",
     "output_type": "stream",
     "text": [
      "Hello my dear Bob.\n"
     ]
    },
    {
     "name": "stderr",
     "output_type": "stream",
     "text": [
      "[java.lang.Enum.toString] [INFO] greetings = Hello my dear Bob.\r\n"
     ]
    }
   ],
   "source": [
    "ij.command().run('pyCommand.HelloCommand', True, 'name', 'Bob')"
   ]
  },
  {
   "cell_type": "code",
   "execution_count": 10,
   "id": "fa483271",
   "metadata": {},
   "outputs": [
    {
     "name": "stdout",
     "output_type": "stream",
     "text": [
      "Hello my dear Charles.\n"
     ]
    },
    {
     "name": "stderr",
     "output_type": "stream",
     "text": [
      "[java.lang.Enum.toString] [INFO] greetings = Hello my dear Charles.\r\n"
     ]
    }
   ],
   "source": [
    "ij.command().run('pyCommand.HelloCommand', True, 'name', 'Charles', 'familiar', False)"
   ]
  },
  {
   "cell_type": "code",
   "execution_count": 12,
   "id": "a115eea0",
   "metadata": {},
   "outputs": [],
   "source": [
    "@ScijavaCommand(context = ij.context(), # ij context needed\n",
    "                name = 'pyCommand.NumberCommand')\n",
    "@ScijavaInput('min_val', JInt, \n",
    "              label = 'Minimum :')\n",
    "@ScijavaInput('max_val', JInt, \n",
    "              label = 'Maximum :')\n",
    "class NumberCommand:        \n",
    "    def run(self):\n",
    "        for i in range(self.min_val, self.max_val):\n",
    "            print(i)"
   ]
  },
  {
   "cell_type": "code",
   "execution_count": 13,
   "id": "d12d7c6b",
   "metadata": {},
   "outputs": [
    {
     "data": {
      "application/vnd.jupyter.widget-view+json": {
       "model_id": "19a3f12fbaf64a21b1f76452a46d965c",
       "version_major": 2,
       "version_minor": 0
      },
      "text/plain": [
       "VBox(children=(BoundedIntText(value=15, description='max_val'), BoundedIntText(value=0, description='min_val')…"
      ]
     },
     "metadata": {},
     "output_type": "display_data"
    },
    {
     "name": "stdout",
     "output_type": "stream",
     "text": [
      "0\n",
      "1\n",
      "2\n",
      "3\n",
      "4\n",
      "5\n",
      "6\n",
      "7\n",
      "8\n",
      "9\n",
      "10\n",
      "11\n",
      "12\n",
      "13\n",
      "14\n"
     ]
    }
   ],
   "source": [
    "ij.command().run('pyCommand.NumberCommand', True)"
   ]
  },
  {
   "cell_type": "code",
   "execution_count": null,
   "id": "9f05ed7c",
   "metadata": {},
   "outputs": [],
   "source": [
    "from ipyfilechooser import FileChooser\n",
    "\n",
    "# Create and display a FileChooser widget\n",
    "fc = FileChooser()\n",
    "display(fc)"
   ]
  },
  {
   "cell_type": "code",
   "execution_count": null,
   "id": "3ba51bb5",
   "metadata": {},
   "outputs": [],
   "source": [
    "# Print the selected path, filename, or both\n",
    "print(fc.selected_path)\n",
    "print(fc.selected_filename)\n",
    "print(fc.selected)"
   ]
  },
  {
   "cell_type": "code",
   "execution_count": null,
   "id": "849b591d",
   "metadata": {},
   "outputs": [],
   "source": [
    " Parameter = jimport('org.scijava.plugin.Parameter')"
   ]
  },
  {
   "cell_type": "code",
   "execution_count": null,
   "id": "84a53339",
   "metadata": {},
   "outputs": [],
   "source": [
    "a.type().pouet\n",
    "\n",
    "@JImplements(Parameter)\n",
    "class PyParam():\n",
    "    \n",
    "    @JOverride\n",
    "    def type(self):\n",
    "        return 'label'\n",
    "    \n",
    "    @JOverride\n",
    "    def label(self):\n",
    "        return 'label'\n",
    "    \n",
    "    @JOverride\n",
    "    def min(self):\n",
    "        return 'label'\n",
    "        \n",
    "    @JOverride\n",
    "    def max(self):\n",
    "        return 'label'\n",
    "    \n",
    "    @JOverride\n",
    "    def initializer(self):\n",
    "        return 'label'\n",
    "    \n",
    "    @JOverride\n",
    "    def attrs(self):\n",
    "        return 'label'"
   ]
  },
  {
   "cell_type": "code",
   "execution_count": null,
   "id": "39700111",
   "metadata": {},
   "outputs": [],
   "source": []
  }
 ],
 "metadata": {
  "kernelspec": {
   "display_name": "Python 3 (ipykernel)",
   "language": "python",
   "name": "python3"
  },
  "language_info": {
   "codemirror_mode": {
    "name": "ipython",
    "version": 3
   },
   "file_extension": ".py",
   "mimetype": "text/x-python",
   "name": "python",
   "nbconvert_exporter": "python",
   "pygments_lexer": "ipython3",
   "version": "3.7.12"
  }
 },
 "nbformat": 4,
 "nbformat_minor": 5
}
