{
 "cells": [
  {
   "cell_type": "code",
   "execution_count": 1,
   "id": "c3905e6f",
   "metadata": {},
   "outputs": [],
   "source": [
    "import imagej"
   ]
  },
  {
   "cell_type": "code",
   "execution_count": 2,
   "id": "7fd5079d",
   "metadata": {},
   "outputs": [],
   "source": [
    "ij = imagej.init(['net.imagej:imagej:2.9.0', 'ch.epfl.biop:pyimagej-scijava-command:0.1.4'])"
   ]
  },
  {
   "cell_type": "code",
   "execution_count": 3,
   "id": "a064a9e8",
   "metadata": {},
   "outputs": [],
   "source": [
    "# Let's create a command from Python, because this is convenient for testing\n",
    "\n",
    "from scyjava import jimport\n",
    "from jpype import JImplements, JOverride\n",
    "from jpype.types import JString, JBoolean, JDouble, JInt\n",
    "\n",
    "from scijava_python_command import ScijavaCommand"
   ]
  },
  {
   "cell_type": "code",
   "execution_count": 4,
   "id": "657edfb5",
   "metadata": {},
   "outputs": [
    {
     "name": "stdout",
     "output_type": "stream",
     "text": [
      "- Registering scijava command pyCommand.HelloCommand\n",
      "- Inputs\n",
      "\t name  :  <java class 'JString'>\n",
      "\t familiar  :  <java class 'JBoolean'>\n",
      "Inputs registered\n",
      "- Outputs\n",
      "\t greetings  :  <java class 'JString'>\n",
      "Outputs registered\n"
     ]
    }
   ],
   "source": [
    "# Example of registering a Scijava Command via the @ScijavaCommand decorator\n",
    "\n",
    "@ScijavaCommand(context = ij.context(), # ij context needed\n",
    "                name = 'pyCommand.HelloCommand', # name of this command, mind potential naming conflicts!\n",
    "                inputs = {'name': JString, 'familiar': JBoolean}, # input name, input Java class, as dictionary\n",
    "                outputs = {'greetings': JString}) # output name, output Java class, as dictionary\n",
    "class HelloCommand:        \n",
    "    def run(self):\n",
    "        if (self.familiar):\n",
    "            self.greetings = 'Hi ' + str(self.name) + '!'\n",
    "        else:\n",
    "            self.greetings = 'Hello my dear ' + str(self.name) + '.'\n",
    "        print(self.greetings)"
   ]
  },
  {
   "cell_type": "code",
   "execution_count": 5,
   "id": "9ac4c3c0",
   "metadata": {},
   "outputs": [
    {
     "name": "stdout",
     "output_type": "stream",
     "text": [
      "Hello my dear Charles.\n"
     ]
    }
   ],
   "source": [
    "ij.command().run('pyCommand.HelloCommand',True)"
   ]
  },
  {
   "cell_type": "code",
   "execution_count": 6,
   "id": "4c0f5aee",
   "metadata": {},
   "outputs": [
    {
     "name": "stdout",
     "output_type": "stream",
     "text": [
      "Scijava jupyter ui enabled\n"
     ]
    }
   ],
   "source": [
    "from scijava_python_command import enable_jupyter_ui\n",
    "\n",
    "enable_jupyter_ui()\n"
   ]
  },
  {
   "cell_type": "code",
   "execution_count": 7,
   "id": "719b743d",
   "metadata": {},
   "outputs": [
    {
     "data": {
      "application/vnd.jupyter.widget-view+json": {
       "model_id": "bc230cf3c52e419fbce8a4d5670fe649",
       "version_major": 2,
       "version_minor": 0
      },
      "text/plain": [
       "VBox(children=(Text(value='Charles', description='name', placeholder='Type something'), Checkbox(value=False, …"
      ]
     },
     "metadata": {},
     "output_type": "display_data"
    },
    {
     "name": "stdout",
     "output_type": "stream",
     "text": [
      "Hi Alice!\n"
     ]
    }
   ],
   "source": [
    "ij.command().run('pyCommand.HelloCommand',True)"
   ]
  },
  {
   "cell_type": "code",
   "execution_count": 8,
   "id": "2b71b38d",
   "metadata": {},
   "outputs": [
    {
     "data": {
      "application/vnd.jupyter.widget-view+json": {
       "model_id": "2090bb563b054b509f647cbae79e3ebb",
       "version_major": 2,
       "version_minor": 0
      },
      "text/plain": [
       "VBox(children=(Checkbox(value=True, description='familiar', indent=False), Button(description='OK', style=Butt…"
      ]
     },
     "metadata": {},
     "output_type": "display_data"
    },
    {
     "name": "stdout",
     "output_type": "stream",
     "text": [
      "Hi Bob!\n"
     ]
    }
   ],
   "source": [
    "ij.command().run('pyCommand.HelloCommand', True, 'name', 'Bob')"
   ]
  },
  {
   "cell_type": "code",
   "execution_count": 9,
   "id": "fa483271",
   "metadata": {},
   "outputs": [
    {
     "name": "stdout",
     "output_type": "stream",
     "text": [
      "Hello my dear Charles.\n"
     ]
    }
   ],
   "source": [
    "ij.command().run('pyCommand.HelloCommand', True, 'name', 'Charles', 'familiar', False)"
   ]
  },
  {
   "cell_type": "code",
   "execution_count": 10,
   "id": "a115eea0",
   "metadata": {},
   "outputs": [
    {
     "name": "stdout",
     "output_type": "stream",
     "text": [
      "- Registering scijava command pyCommand.NumberCommand\n",
      "- Inputs\n",
      "\t min_val  :  <java class 'JInt'>\n",
      "\t max_val  :  <java class 'JInt'>\n",
      "Inputs registered\n",
      "- Outputs\n",
      "Outputs registered\n"
     ]
    }
   ],
   "source": [
    "@ScijavaCommand(context = ij.context(), # ij context needed\n",
    "                name = 'pyCommand.NumberCommand', # name of this command, mind potential naming conflicts!\n",
    "                inputs = {'min_val': JInt, 'max_val': JInt}, # input name, input Java class, as dictionary\n",
    "                outputs = {}) # output name, output Java class, as dictionary\n",
    "class NumberCommand:        \n",
    "    def run(self):\n",
    "        for i in range(self.min_val, self.max_val):\n",
    "            print(i)"
   ]
  },
  {
   "cell_type": "code",
   "execution_count": 11,
   "id": "d12d7c6b",
   "metadata": {},
   "outputs": [
    {
     "data": {
      "application/vnd.jupyter.widget-view+json": {
       "model_id": "d8216994fd72482bb02ed233891aac28",
       "version_major": 2,
       "version_minor": 0
      },
      "text/plain": [
       "VBox(children=(BoundedIntText(value=4, description='max_val'), BoundedIntText(value=0, description='min_val'),…"
      ]
     },
     "metadata": {},
     "output_type": "display_data"
    },
    {
     "name": "stdout",
     "output_type": "stream",
     "text": [
      "0\n",
      "1\n",
      "2\n",
      "3\n",
      "4\n",
      "5\n",
      "6\n",
      "7\n",
      "8\n",
      "9\n",
      "10\n",
      "11\n",
      "12\n",
      "13\n",
      "14\n"
     ]
    }
   ],
   "source": [
    "ij.command().run('pyCommand.NumberCommand', True)"
   ]
  },
  {
   "cell_type": "code",
   "execution_count": null,
   "id": "9f05ed7c",
   "metadata": {},
   "outputs": [],
   "source": []
  }
 ],
 "metadata": {
  "kernelspec": {
   "display_name": "Python 3 (ipykernel)",
   "language": "python",
   "name": "python3"
  },
  "language_info": {
   "codemirror_mode": {
    "name": "ipython",
    "version": 3
   },
   "file_extension": ".py",
   "mimetype": "text/x-python",
   "name": "python",
   "nbconvert_exporter": "python",
   "pygments_lexer": "ipython3",
   "version": "3.7.12"
  }
 },
 "nbformat": 4,
 "nbformat_minor": 5
}
